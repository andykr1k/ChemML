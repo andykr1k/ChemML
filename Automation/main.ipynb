{
 "cells": [
  {
   "cell_type": "markdown",
   "metadata": {},
   "source": [
    "# Imports"
   ]
  },
  {
   "cell_type": "code",
   "execution_count": 45,
   "metadata": {},
   "outputs": [],
   "source": [
    "import periodictable\n",
    "import re\n",
    "from periodictable import elements\n",
    "import itertools\n",
    "from collections import Counter"
   ]
  },
  {
   "cell_type": "code",
   "execution_count": 28,
   "metadata": {},
   "outputs": [],
   "source": [
    "group_3d = ['Ti', 'Co', 'Fe', 'Co', 'Cu', 'Mn', 'Ni']\n",
    "group_5d = ['Hf', 'Ta', 'W', 'Re', 'Os', 'Ir']"
   ]
  },
  {
   "cell_type": "markdown",
   "metadata": {},
   "source": [
    "# Base Structure Combinatorics"
   ]
  },
  {
   "cell_type": "code",
   "execution_count": 15,
   "metadata": {},
   "outputs": [],
   "source": [
    "def parse_formula(formula):\n",
    "    pattern = r'([A-Z][a-z]*)(\\d*)'\n",
    "\n",
    "    matches = re.findall(pattern, formula)\n",
    "\n",
    "    elements_counts = []\n",
    "    for element, count in matches:\n",
    "        count = int(count) if count else 1\n",
    "        elements_counts.append((element, count))\n",
    "\n",
    "    return elements_counts"
   ]
  },
  {
   "cell_type": "code",
   "execution_count": 46,
   "metadata": {},
   "outputs": [],
   "source": [
    "def tuple_to_formula(formula_tuple):\n",
    "    formula = []\n",
    "    for element_tuple in formula_tuple:\n",
    "        element_count = Counter(element_tuple)\n",
    "        for element, count in element_count.items():\n",
    "            if count > 1:\n",
    "                formula.append(f\"{element}{count}\")\n",
    "            else:\n",
    "                formula.append(element)\n",
    "    return ''.join(formula)"
   ]
  },
  {
   "cell_type": "code",
   "execution_count": 40,
   "metadata": {},
   "outputs": [],
   "source": [
    "def get_combinations(element, count, is_first):\n",
    "    if element in ['B', 'Br']:\n",
    "        return [(element,) * count]\n",
    "\n",
    "    if is_first:\n",
    "        combinations = []\n",
    "        for comb in itertools.combinations_with_replacement(group_3d + group_5d, count - 1):\n",
    "            for group_3d_elem in group_3d:\n",
    "                combinations.append((group_3d_elem,) + comb)\n",
    "    else:\n",
    "        combinations = list(itertools.combinations_with_replacement(group_3d + group_5d, count))\n",
    "\n",
    "    return combinations\n"
   ]
  },
  {
   "cell_type": "code",
   "execution_count": 37,
   "metadata": {},
   "outputs": [],
   "source": [
    "base_structure = 'Ti3Co5B2'"
   ]
  },
  {
   "cell_type": "code",
   "execution_count": 38,
   "metadata": {},
   "outputs": [
    {
     "data": {
      "text/plain": [
       "[('Ti', 3), ('Co', 5), ('B', 2)]"
      ]
     },
     "execution_count": 38,
     "metadata": {},
     "output_type": "execute_result"
    }
   ],
   "source": [
    "res = parse_formula(base_structure)\n",
    "res"
   ]
  },
  {
   "cell_type": "code",
   "execution_count": 42,
   "metadata": {},
   "outputs": [],
   "source": [
    "combinations_per_element = []\n",
    "\n",
    "for idx, (element, count) in enumerate(res):\n",
    "    is_first_element = (idx == 0)\n",
    "    element_combinations = get_combinations(element, count, is_first_element)\n",
    "    combinations_per_element.append(element_combinations)"
   ]
  },
  {
   "cell_type": "code",
   "execution_count": 43,
   "metadata": {},
   "outputs": [],
   "source": [
    "all_formula_combinations = list(itertools.product(*combinations_per_element))"
   ]
  },
  {
   "cell_type": "code",
   "execution_count": 47,
   "metadata": {},
   "outputs": [],
   "source": [
    "structured_formula_combinations = [tuple_to_formula(formula_combo) for formula_combo in all_formula_combinations]"
   ]
  },
  {
   "cell_type": "code",
   "execution_count": 48,
   "metadata": {},
   "outputs": [
    {
     "data": {
      "text/plain": [
       "'Ti3Ti5B2'"
      ]
     },
     "execution_count": 48,
     "metadata": {},
     "output_type": "execute_result"
    }
   ],
   "source": [
    "structured_formula_combinations[0]"
   ]
  }
 ],
 "metadata": {
  "kernelspec": {
   "display_name": "env",
   "language": "python",
   "name": "python3"
  },
  "language_info": {
   "codemirror_mode": {
    "name": "ipython",
    "version": 3
   },
   "file_extension": ".py",
   "mimetype": "text/x-python",
   "name": "python",
   "nbconvert_exporter": "python",
   "pygments_lexer": "ipython3",
   "version": "3.10.7"
  }
 },
 "nbformat": 4,
 "nbformat_minor": 2
}
