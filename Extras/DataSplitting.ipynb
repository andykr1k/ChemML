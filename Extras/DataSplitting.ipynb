{
 "cells": [
  {
   "cell_type": "markdown",
   "metadata": {},
   "source": [
    "# Imports"
   ]
  },
  {
   "cell_type": "code",
   "execution_count": null,
   "metadata": {},
   "outputs": [],
   "source": [
    "import os\n",
    "import pandas as pd\n",
    "import numpy as np\n",
    "import seaborn as sns\n",
    "import matplotlib.pyplot as plt\n",
    "from sklearn.preprocessing import OrdinalEncoder\n",
    "from sklearn.model_selection import train_test_split"
   ]
  },
  {
   "cell_type": "code",
   "execution_count": null,
   "metadata": {},
   "outputs": [],
   "source": [
    "DATA_PATH = os.path.join(os.getcwd(), 'Data')\n",
    "MODELS_PATH = os.path.join(os.getcwd(), 'Models')\n",
    "WEIGHTS_PATH = os.path.join(os.getcwd(), 'Weights')\n",
    "ASSETS_PATH = os.path.join(os.getcwd(), 'Assets')\n",
    "RESULTS_PATH = os.path.join(os.getcwd(), 'Results')"
   ]
  },
  {
   "cell_type": "code",
   "execution_count": null,
   "metadata": {},
   "outputs": [],
   "source": [
    "df = pd.read_csv(\n",
    "    r\"C:\\Users\\joeya\\Documents\\Fokwa Group\\ML_tutorial\\intermetallics\\intermetallics_Fulldataset_featurized7.csv\")\n",
    "\n",
    "enc = OrdinalEncoder()\n",
    "enc.fit(df[[\"crystal_system\", \"symbol\", \"point_group\"]])\n",
    "df[[\"crystal_system\", \"symbol\", \"point_group\"]] = enc.transform(\n",
    "    df[[\"crystal_system\", \"symbol\", \"point_group\"]])\n",
    "\n",
    "X = pd.DataFrame()  # input data\n",
    "y = pd.DataFrame()  # prediction targets for the model.\n",
    "\n",
    "X = df.copy(deep=True)"
   ]
  },
  {
   "cell_type": "code",
   "execution_count": null,
   "metadata": {},
   "outputs": [],
   "source": [
    "X = pd.DataFrame()  # input data\n",
    "y = pd.DataFrame()  # prediction targets for the model.\n",
    "\n",
    "X = df.copy(deep=True)\n",
    "\n",
    "y = X.pop('total_magnetization_normalized_formula_units')\n",
    "\n",
    "print(f'Shape of X: {X.shape}')\n",
    "print(f'Shape of y: {y.shape}')"
   ]
  },
  {
   "cell_type": "code",
   "execution_count": null,
   "metadata": {},
   "outputs": [],
   "source": [
    "# Setting a rng seed to ensure reproducibility\n",
    "RNG_SEED = 8\n",
    "np.random.seed(seed=RNG_SEED)\n",
    "\n",
    "X_train, X_test, y_train, y_test = train_test_split(\n",
    "    X, y, test_size=0.20, random_state=RNG_SEED)\n",
    "\n",
    "print(X_train.shape)\n",
    "print(X_test.shape)"
   ]
  },
  {
   "cell_type": "code",
   "execution_count": null,
   "metadata": {},
   "outputs": [],
   "source": [
    "# Checking if there are multiple entries with the same\n",
    "num_rows = len(X_train)\n",
    "print(f'There are in total {num_rows} rows in the X_train DataFrame.')\n",
    "\n",
    "num_unique_formulae = len(X_train['formula'].unique())\n",
    "print(f'But there are only {num_unique_formulae} unique formulae!\\n')\n",
    "\n",
    "print('Unique formulae and their number of occurances in the X_train DataFrame:')\n",
    "print(X_train['formula'].value_counts(), '\\n')\n",
    "print('Unique formulae and their number of occurances in the X_test DataFrame:')\n",
    "print(X_test['formula'].value_counts())"
   ]
  },
  {
   "cell_type": "code",
   "execution_count": null,
   "metadata": {},
   "outputs": [],
   "source": [
    "# Need to manually split by formula\n",
    "\n",
    "unique_formulae = X['formula'].unique()\n",
    "print(f'{len(unique_formulae)} unique formulae:\\n{unique_formulae}')\n",
    "\n",
    "# Set a random seed to ensure reproducibility across runs\n",
    "np.random.seed(seed=RNG_SEED)\n",
    "\n",
    "# Store a list of all unique formulae\n",
    "all_formulae = unique_formulae.copy()\n",
    "\n",
    "# Define the proportional size of the dataset split\n",
    "val_size = 0.20\n",
    "test_size = 0.10\n",
    "train_size = 1 - val_size - test_size\n",
    "\n",
    "# Calculate the number of samples in each dataset split\n",
    "num_val_samples = int(round(val_size * len(unique_formulae)))\n",
    "num_test_samples = int(round(test_size * len(unique_formulae)))\n",
    "num_train_samples = int(\n",
    "    round((1 - val_size - test_size) * len(unique_formulae)))\n",
    "\n",
    "# Randomly choose the formulate for the validation dataset, and remove those from the unique formulae list\n",
    "val_formulae = np.random.choice(\n",
    "    all_formulae, size=num_val_samples, replace=False)\n",
    "all_formulae = [f for f in all_formulae if f not in val_formulae]\n",
    "\n",
    "# Randomly choose the formulate for the test dataset, and remove those from the unique formulae list\n",
    "test_formulae = np.random.choice(\n",
    "    all_formulae, size=num_test_samples, replace=False)\n",
    "all_formulae = [f for f in all_formulae if f not in test_formulae]\n",
    "\n",
    "# The remaining formulae will be used for the training dataset\n",
    "train_formulae = all_formulae.copy()\n",
    "\n",
    "\n",
    "print('Number of training formulae:', len(train_formulae))\n",
    "print('Number of validation formulae:', len(val_formulae))\n",
    "print('Number of testing formulae:', len(test_formulae))"
   ]
  },
  {
   "cell_type": "code",
   "execution_count": null,
   "metadata": {},
   "outputs": [],
   "source": [
    "\n",
    "# Split the original dataset into the train/validation/test datasets using the formulae lists above\n",
    "df_train = df[df['formula'].isin(train_formulae)]\n",
    "df_val = df[df['formula'].isin(val_formulae)]\n",
    "df_test = df[df['formula'].isin(test_formulae)]\n",
    "\n",
    "print(f'train dataset shape: {df_train.shape}')\n",
    "print(f'validation dataset shape: {df_val.shape}')\n",
    "print(f'test dataset shape: {df_test.shape}\\n')\n",
    "\n",
    "print(df_train.head(), '\\n')\n",
    "print(df_val.head(), '\\n')\n",
    "print(df_test.head(), '\\n')\n",
    "\n",
    "# Check\n",
    "train_formulae = set(df_train['formula'].unique())\n",
    "val_formulae = set(df_val['formula'].unique())\n",
    "test_formulae = set(df_test['formula'].unique())\n",
    "\n",
    "# save dataframe of unique formulas and how many there are in all 3 data subsets\n",
    "all_formulae_df = pd.DataFrame(all_formulae, columns=['Number of formulae'])\n",
    "all_formulae_df.to_csv(\n",
    "    'C:/Users/joeya/Documents/Fokwa Group/ML_tutorial/intermetallics/tables&lists/all_formulae.csv', index=False)\n",
    "\n",
    "common_formulae1 = train_formulae.intersection(test_formulae)\n",
    "common_formulae2 = train_formulae.intersection(val_formulae)\n",
    "common_formulae3 = test_formulae.intersection(val_formulae)\n",
    "\n",
    "print(\n",
    "    f'# of common formulae in intersection 1: {len(common_formulae1)}; common formulae: {common_formulae1}')\n",
    "print(\n",
    "    f'# of common formulae in intersection 2: {len(common_formulae2)}; common formulae: {common_formulae2}')\n",
    "print(\n",
    "    f'# of common formulae in intersection 3: {len(common_formulae3)}; common formulae: {common_formulae3}')"
   ]
  },
  {
   "cell_type": "code",
   "execution_count": null,
   "metadata": {},
   "outputs": [],
   "source": [
    "# saving these splits into csv files\n",
    "train_path = os.path.join(\n",
    "    DATA_PATH, 'intermetallics_train7.csv')\n",
    "val_path = os.path.join(\n",
    "    DATA_PATH, 'intermetallics_val7.csv')\n",
    "test_path = os.path.join(\n",
    "    DATA_PATH, 'intermetallics_test7.csv')\n",
    "\n",
    "df_train.to_csv(train_path, index=False)\n",
    "df_val.to_csv(val_path, index=False)\n",
    "df_test.to_csv(test_path, index=False)"
   ]
  },
  {
   "cell_type": "code",
   "execution_count": null,
   "metadata": {},
   "outputs": [],
   "source": [
    "# %% Analyzing magnetization distribution in training and\n",
    "\n",
    "df_train_new = pd.concat((df_train, df_val), axis=0)\n",
    "print(df_train_new.shape)\n",
    "\n",
    "print(df_train_new['total_magnetization_normalized_formula_units'].describe())\n",
    "\n",
    "plt.rcParams['font.size'] = 10\n",
    "plt.rcParams['figure.dpi'] = 600\n",
    "\n",
    "plot1 = plt.hist(df_train_new['total_magnetization_normalized_formula_units'],\n",
    "                 color='blue', edgecolor='black', bins=132, log=True)\n",
    "\n",
    "plot1 = plt.xlabel('Magnetization ($\\u03bc_B$/ f.u.)')\n",
    "plot1 = plt.ylabel('log(counts)')\n",
    "plot1 = plt.title('Frequency of magnetization values in Train Set')\n",
    "\n",
    "plt.savefig(r'C:\\Users\\joeya\\Documents\\Fokwa Group\\ML_tutorial\\intermetallics\\figures\\different_training_sets\\trainSet7_magn_hist_transparent.png',\n",
    "            bbox_inches='tight', dpi=600, transparent=True)\n",
    "plt.savefig(r'C:\\Users\\joeya\\Documents\\Fokwa Group\\ML_tutorial\\intermetallics\\figures\\different_training_sets\\trainSet7_New_magn_hist.png',\n",
    "            bbox_inches='tight', dpi=600)"
   ]
  }
 ],
 "metadata": {
  "language_info": {
   "name": "python"
  }
 },
 "nbformat": 4,
 "nbformat_minor": 2
}
