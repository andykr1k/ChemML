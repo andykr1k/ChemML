{
 "cells": [
  {
   "cell_type": "code",
   "execution_count": null,
   "metadata": {},
   "outputs": [],
   "source": [
    "import os\n",
    "import pandas as pd\n",
    "import numpy as np\n",
    "import matplotlib.pyplot as plt\n",
    "import seaborn as sns\n",
    "import tabulate as tabulate"
   ]
  },
  {
   "cell_type": "code",
   "execution_count": null,
   "metadata": {},
   "outputs": [],
   "source": [
    "DATA_PATH = os.path.join(os.getcwd(), 'Data')\n",
    "MODELS_PATH = os.path.join(os.getcwd(), 'Models')\n",
    "WEIGHTS_PATH = os.path.join(os.getcwd(), 'Weights')\n",
    "ASSETS_PATH = os.path.join(os.getcwd(), 'Assets')\n",
    "RESULTS_PATH = os.path.join(os.getcwd(), 'Results')"
   ]
  },
  {
   "cell_type": "code",
   "execution_count": null,
   "metadata": {},
   "outputs": [],
   "source": [
    "df = pd.read_csv(\n",
    "    r\"C:\\Users\\joeya\\Documents\\Fokwa Group\\ML_tutorial\\intermetallics\\intermetallics_dataset_Jarvis_Full2.csv\")\n",
    "print(df.shape)\n",
    "df.drop(df.index[:4], inplace=True)\n",
    "print(df.shape)\n",
    "\n",
    "# Move formula and material_id columns to first and second position\n",
    "first_column = df.pop('material_id')\n",
    "second_column = df.pop('formula')\n",
    "df.insert(0, 'material_id', first_column)\n",
    "df.insert(1, 'formula', second_column)\n",
    "print(df.shape)"
   ]
  },
  {
   "cell_type": "code",
   "execution_count": null,
   "metadata": {},
   "outputs": [],
   "source": [
    "# Dropping data with 0 magmom values\n",
    "\n",
    "df.drop(df[df['total_magnetization_normalized_formula_units']\n",
    "        < 0.10].index, inplace=True)\n",
    "df.drop(df[df['total_magnetization_normalized_formula_units']\n",
    "        > 80.000].index, inplace=True)\n",
    "\n",
    "print(df.shape)"
   ]
  },
  {
   "cell_type": "code",
   "execution_count": null,
   "metadata": {},
   "outputs": [],
   "source": [
    "# Plotting occurances of crucial Fe, Cr, Co, Mn, Co, Ni elements in dataset\n",
    "\n",
    "counts = df.elements.str.replace(r'\\[|\\]', '', regex=True)\\\n",
    "    .str.split(',\\s').explode().value_counts()\n",
    "print(counts)\n",
    "counts_dict = counts.to_dict()\n",
    "countsdf = pd.DataFrame(counts)\n",
    "countsdf.to_csv(\n",
    "    'C:/Users/joeya/Documents/Fokwa Group/ML_tutorial/intermetallics/tables&lists/Set7/ElementalCount.csv')"
   ]
  },
  {
   "cell_type": "code",
   "execution_count": null,
   "metadata": {},
   "outputs": [],
   "source": [
    "# Plot updated crystal system distribution\n",
    "\n",
    "crystal_system_count_dict = {}\n",
    "for entry in df['crystal_system']:\n",
    "    if entry in crystal_system_count_dict:\n",
    "        crystal_system_count_dict[entry] += 1\n",
    "    else:\n",
    "        crystal_system_count_dict[entry] = 0\n",
    "\n",
    "\n",
    "plt.rcParams.update({'font.size': 30})\n",
    "plt.figure(figsize=(25, 25))\n",
    "plot = plt.bar(range(len(crystal_system_count_dict)),\n",
    "               crystal_system_count_dict.values(), align='center')\n",
    "plt.xticks(range(len(crystal_system_count_dict)), [\n",
    "           str(key) for key in list(crystal_system_count_dict.keys())])\n",
    "plt.title('Distribution of crystal systems within dataset')\n",
    "\n",
    "plt.savefig(r'C:\\Users\\joeya\\Documents\\Fokwa Group\\ML_tutorial\\intermetallics\\figures\\crystal_systems_transparent.png',\n",
    "            bbox_inches='tight', dpi=600, transparent=True)\n",
    "plt.savefig(r'C:\\Users\\joeya\\Documents\\Fokwa Group\\ML_tutorial\\intermetallics\\figures\\crystal_systems.png',\n",
    "            bbox_inches='tight', dpi=600)"
   ]
  },
  {
   "cell_type": "code",
   "execution_count": null,
   "metadata": {},
   "outputs": [],
   "source": [
    "# create histogram of magnetization per formula unit\n",
    "print(df['total_magnetization_normalized_formula_units'].describe())\n",
    "\n",
    "plt.rcParams['font.size'] = 10\n",
    "plt.rcParams['figure.dpi'] = 600\n",
    "\n",
    "plot1 = plt.hist(df['total_magnetization_normalized_formula_units'],\n",
    "                 color='blue', edgecolor='black', bins=132, log=True)\n",
    "\n",
    "plot1 = plt.xlabel('Magnetization ($\\u03bc_B$/ f.u.)')\n",
    "plot1 = plt.ylabel('log(counts)')\n",
    "plot1 = plt.title('Frequency of magnetization values')\n",
    "\n",
    "plt.savefig(r'C:\\Users\\joeya\\Documents\\Fokwa Group\\ML_tutorial\\intermetallics\\figures\\magnetization_histogram3_transparent.png',\n",
    "            bbox_inches='tight', dpi=600, transparent=True)\n",
    "plt.savefig(r'C:\\Users\\joeya\\Documents\\Fokwa Group\\ML_tutorial\\intermetallics\\figures\\magnetization_histogram3.png',\n",
    "            bbox_inches='tight', dpi=600)"
   ]
  },
  {
   "cell_type": "code",
   "execution_count": null,
   "metadata": {},
   "outputs": [],
   "source": [
    "# Doesnt work on Spyder, so I did this on Jupyter\n",
    "# List of Matminer featurizers used: AtomicFraction\n",
    "df.to_csv(r\"C:\\Users\\joeya\\Documents\\Fokwa Group\\ML_tutorial\\intermetallics\\intermetallics_Fulldataset_cleaned2.csv\", index=False)"
   ]
  }
 ],
 "metadata": {
  "language_info": {
   "name": "python"
  }
 },
 "nbformat": 4,
 "nbformat_minor": 2
}
