{
 "cells": [
  {
   "cell_type": "code",
   "execution_count": 20,
   "id": "7131bd03",
   "metadata": {},
   "outputs": [
    {
     "name": "stdout",
     "output_type": "stream",
     "text": [
      "['builder_meta', 'nsites', 'elements', 'nelements', 'composition', 'composition_reduced', 'formula_pretty', 'formula_anonymous', 'chemsys', 'volume', 'density', 'density_atomic', 'symmetry', 'property_name', 'material_id', 'deprecated', 'deprecation_reasons', 'last_updated', 'origins', 'warnings', 'structure', 'task_ids', 'uncorrected_energy_per_atom', 'energy_per_atom', 'formation_energy_per_atom', 'energy_above_hull', 'is_stable', 'equilibrium_reaction_energy_per_atom', 'decomposes_to', 'xas', 'grain_boundaries', 'band_gap', 'cbm', 'vbm', 'efermi', 'is_gap_direct', 'is_metal', 'es_source_calc_id', 'bandstructure', 'dos', 'dos_energy_up', 'dos_energy_down', 'is_magnetic', 'ordering', 'total_magnetization', 'total_magnetization_normalized_vol', 'total_magnetization_normalized_formula_units', 'num_magnetic_sites', 'num_unique_magnetic_sites', 'types_of_magnetic_species', 'k_voigt', 'k_reuss', 'k_vrh', 'g_voigt', 'g_reuss', 'g_vrh', 'universal_anisotropy', 'homogeneous_poisson', 'e_total', 'e_ionic', 'e_electronic', 'n', 'e_ij_max', 'weighted_surface_energy_EV_PER_ANG2', 'weighted_surface_energy', 'weighted_work_function', 'surface_anisotropy', 'shape_factor', 'has_reconstructed', 'possible_species', 'has_props', 'theoretical', 'database_IDs']\n"
     ]
    },
    {
     "data": {
      "application/vnd.jupyter.widget-view+json": {
       "model_id": "eaa82179c38b42d4b2517ccabb4d2e76",
       "version_major": 2,
       "version_minor": 0
      },
      "text/plain": [
       "Retrieving SummaryDoc documents:   0%|          | 0/2 [00:00<?, ?it/s]"
      ]
     },
     "metadata": {},
     "output_type": "display_data"
    },
    {
     "data": {
      "application/vnd.jupyter.widget-view+json": {
       "model_id": "a7abb390be244770bcc644708f027c04",
       "version_major": 2,
       "version_minor": 0
      },
      "text/plain": [
       "  0%|          | 0/2 [00:00<?, ?it/s]"
      ]
     },
     "metadata": {},
     "output_type": "display_data"
    },
    {
     "name": "stderr",
     "output_type": "stream",
     "text": [
      "C:\\Users\\joeya\\anaconda3\\Lib\\site-packages\\mp_api\\client\\mprester.py:227: UserWarning: mpcontribs-client not installed. Install the package to query MPContribs data, or construct pourbaix diagrams: 'pip install mpcontribs-client'\n",
      "  warnings.warn(\n"
     ]
    },
    {
     "data": {
      "application/vnd.jupyter.widget-view+json": {
       "model_id": "6ac9bc211cf1427a9e95c66dbdd032d6",
       "version_major": 2,
       "version_minor": 0
      },
      "text/plain": [
       "Retrieving SummaryDoc documents:   0%|          | 0/2 [00:00<?, ?it/s]"
      ]
     },
     "metadata": {},
     "output_type": "display_data"
    },
    {
     "data": {
      "application/vnd.jupyter.widget-view+json": {
       "model_id": "140ba6c93a894a49a834af53cdd23298",
       "version_major": 2,
       "version_minor": 0
      },
      "text/plain": [
       "  0%|          | 0/2 [00:00<?, ?it/s]"
      ]
     },
     "metadata": {},
     "output_type": "display_data"
    },
    {
     "data": {
      "text/html": [
       "<div>\n",
       "<style scoped>\n",
       "    .dataframe tbody tr th:only-of-type {\n",
       "        vertical-align: middle;\n",
       "    }\n",
       "\n",
       "    .dataframe tbody tr th {\n",
       "        vertical-align: top;\n",
       "    }\n",
       "\n",
       "    .dataframe thead th {\n",
       "        text-align: right;\n",
       "    }\n",
       "</style>\n",
       "<table border=\"1\" class=\"dataframe\">\n",
       "  <thead>\n",
       "    <tr style=\"text-align: right;\">\n",
       "      <th></th>\n",
       "      <th>jml_bp_mult_atom_rad</th>\n",
       "      <th>jml_hfus_add_bp</th>\n",
       "      <th>jml_elec_aff_mult_voro_coord</th>\n",
       "      <th>jml_mol_vol_subs_atom_mass</th>\n",
       "      <th>jml_is_halogen</th>\n",
       "      <th>jml_atom_mass_subs_first_ion_en</th>\n",
       "      <th>jml_row</th>\n",
       "      <th>jml_mol_vol_mult_atom_mass</th>\n",
       "      <th>jml_voro_coord_divi_therm_cond</th>\n",
       "      <th>jml_voro_coord_subs_mp</th>\n",
       "      <th>...</th>\n",
       "      <th>total_magnetization_normalized_vol</th>\n",
       "      <th>total_magnetization</th>\n",
       "      <th>volume</th>\n",
       "      <th>nelements</th>\n",
       "      <th>nsites</th>\n",
       "      <th>crystal_system</th>\n",
       "      <th>number</th>\n",
       "      <th>symbol</th>\n",
       "      <th>point_group</th>\n",
       "      <th>structure</th>\n",
       "    </tr>\n",
       "  </thead>\n",
       "  <tbody>\n",
       "    <tr>\n",
       "      <th>0</th>\n",
       "      <td>4121.6</td>\n",
       "      <td>2944.2100</td>\n",
       "      <td>6.43</td>\n",
       "      <td>-44.7661</td>\n",
       "      <td>0.0</td>\n",
       "      <td>45.22959</td>\n",
       "      <td>4.0</td>\n",
       "      <td>375.931803</td>\n",
       "      <td>0.106383</td>\n",
       "      <td>-2170.0</td>\n",
       "      <td>...</td>\n",
       "      <td>0.000000e+00</td>\n",
       "      <td>0.000000e+00</td>\n",
       "      <td>23.002393</td>\n",
       "      <td>1</td>\n",
       "      <td>2</td>\n",
       "      <td>Orthorhombic</td>\n",
       "      <td>63</td>\n",
       "      <td>Cmcm</td>\n",
       "      <td>mmm</td>\n",
       "      <td>[[-1.82823127 -1.14705241 -3.04823305] Cr, [-6...</td>\n",
       "    </tr>\n",
       "    <tr>\n",
       "      <th>1</th>\n",
       "      <td>4121.6</td>\n",
       "      <td>2944.2100</td>\n",
       "      <td>6.43</td>\n",
       "      <td>-44.7661</td>\n",
       "      <td>0.0</td>\n",
       "      <td>45.22959</td>\n",
       "      <td>4.0</td>\n",
       "      <td>375.931803</td>\n",
       "      <td>0.106383</td>\n",
       "      <td>-2170.0</td>\n",
       "      <td>...</td>\n",
       "      <td>2.292793e-08</td>\n",
       "      <td>6.000000e-07</td>\n",
       "      <td>26.168958</td>\n",
       "      <td>1</td>\n",
       "      <td>2</td>\n",
       "      <td>Cubic</td>\n",
       "      <td>229</td>\n",
       "      <td>Im-3m</td>\n",
       "      <td>m-3m</td>\n",
       "      <td>[[-1.66945527e-05  2.90100006e-05  2.57116964e...</td>\n",
       "    </tr>\n",
       "    <tr>\n",
       "      <th>2</th>\n",
       "      <td>4387.6</td>\n",
       "      <td>3134.1381</td>\n",
       "      <td>1.57</td>\n",
       "      <td>-48.7550</td>\n",
       "      <td>0.0</td>\n",
       "      <td>47.94260</td>\n",
       "      <td>4.0</td>\n",
       "      <td>395.941050</td>\n",
       "      <td>0.125000</td>\n",
       "      <td>-1801.0</td>\n",
       "      <td>...</td>\n",
       "      <td>1.166675e-06</td>\n",
       "      <td>2.300000e-05</td>\n",
       "      <td>19.714143</td>\n",
       "      <td>1</td>\n",
       "      <td>2</td>\n",
       "      <td>Hexagonal</td>\n",
       "      <td>194</td>\n",
       "      <td>P6_3/mmc</td>\n",
       "      <td>6/mmm</td>\n",
       "      <td>[[-1.54707902e-06  1.40536193e+00  9.60483617e...</td>\n",
       "    </tr>\n",
       "    <tr>\n",
       "      <th>3</th>\n",
       "      <td>4387.6</td>\n",
       "      <td>3134.1381</td>\n",
       "      <td>1.57</td>\n",
       "      <td>-48.7550</td>\n",
       "      <td>0.0</td>\n",
       "      <td>47.94260</td>\n",
       "      <td>4.0</td>\n",
       "      <td>395.941050</td>\n",
       "      <td>0.125000</td>\n",
       "      <td>-1801.0</td>\n",
       "      <td>...</td>\n",
       "      <td>2.254071e-01</td>\n",
       "      <td>5.289892e+00</td>\n",
       "      <td>23.468168</td>\n",
       "      <td>1</td>\n",
       "      <td>2</td>\n",
       "      <td>Cubic</td>\n",
       "      <td>229</td>\n",
       "      <td>Im-3m</td>\n",
       "      <td>mmm</td>\n",
       "      <td>[[1.16907043 2.0252321  0.8292113 ] Fe, [ 1.16...</td>\n",
       "    </tr>\n",
       "  </tbody>\n",
       "</table>\n",
       "<p>4 rows × 1570 columns</p>\n",
       "</div>"
      ],
      "text/plain": [
       "   jml_bp_mult_atom_rad  jml_hfus_add_bp  jml_elec_aff_mult_voro_coord  \\\n",
       "0                4121.6        2944.2100                          6.43   \n",
       "1                4121.6        2944.2100                          6.43   \n",
       "2                4387.6        3134.1381                          1.57   \n",
       "3                4387.6        3134.1381                          1.57   \n",
       "\n",
       "   jml_mol_vol_subs_atom_mass  jml_is_halogen  \\\n",
       "0                    -44.7661             0.0   \n",
       "1                    -44.7661             0.0   \n",
       "2                    -48.7550             0.0   \n",
       "3                    -48.7550             0.0   \n",
       "\n",
       "   jml_atom_mass_subs_first_ion_en  jml_row  jml_mol_vol_mult_atom_mass  \\\n",
       "0                         45.22959      4.0                  375.931803   \n",
       "1                         45.22959      4.0                  375.931803   \n",
       "2                         47.94260      4.0                  395.941050   \n",
       "3                         47.94260      4.0                  395.941050   \n",
       "\n",
       "   jml_voro_coord_divi_therm_cond  jml_voro_coord_subs_mp  ...  \\\n",
       "0                        0.106383                 -2170.0  ...   \n",
       "1                        0.106383                 -2170.0  ...   \n",
       "2                        0.125000                 -1801.0  ...   \n",
       "3                        0.125000                 -1801.0  ...   \n",
       "\n",
       "   total_magnetization_normalized_vol  total_magnetization     volume  \\\n",
       "0                        0.000000e+00         0.000000e+00  23.002393   \n",
       "1                        2.292793e-08         6.000000e-07  26.168958   \n",
       "2                        1.166675e-06         2.300000e-05  19.714143   \n",
       "3                        2.254071e-01         5.289892e+00  23.468168   \n",
       "\n",
       "   nelements  nsites  crystal_system  number    symbol  point_group  \\\n",
       "0          1       2    Orthorhombic      63      Cmcm          mmm   \n",
       "1          1       2           Cubic     229     Im-3m         m-3m   \n",
       "2          1       2       Hexagonal     194  P6_3/mmc        6/mmm   \n",
       "3          1       2           Cubic     229     Im-3m          mmm   \n",
       "\n",
       "                                           structure  \n",
       "0  [[-1.82823127 -1.14705241 -3.04823305] Cr, [-6...  \n",
       "1  [[-1.66945527e-05  2.90100006e-05  2.57116964e...  \n",
       "2  [[-1.54707902e-06  1.40536193e+00  9.60483617e...  \n",
       "3  [[1.16907043 2.0252321  0.8292113 ] Fe, [ 1.16...  \n",
       "\n",
       "[4 rows x 1570 columns]"
      ]
     },
     "metadata": {},
     "output_type": "display_data"
    }
   ],
   "source": [
    "from mp_api.client import MPRester\n",
    "from tqdm.notebook import tqdm\n",
    "import pandas as pd\n",
    "from matminer.featurizers.structure.composite import JarvisCFID\n",
    "\n",
    "API_KEY = 'm79FCfWQZzWuPVJsCRMwXp87Y0ke7jGZ'\n",
    "with MPRester(API_KEY) as mpr:\n",
    "    print(mpr.materials.summary.available_fields)"
   ]
  },
  {
   "cell_type": "code",
   "execution_count": null,
   "id": "a76123d1",
   "metadata": {},
   "outputs": [],
   "source": [
    "jarvis = JarvisCFID()\n",
    "\n",
    "# This is a helper function to shorten lists during\n",
    "# the live presentation of this lesson for better readibility.\n",
    "# You can ignore it.\n",
    "\n",
    "\n",
    "def shortlist(long_list, n=5):\n",
    "    print(\"First {} of {} items:\".format(min(n, 5), len(long_list)))\n",
    "    for item in long_list[0:n]:\n",
    "        print(item)\n",
    "\n",
    "\n",
    "JarvisFeatures = []\n",
    "Formulas = []\n",
    "material_id = []\n",
    "nelements = []\n",
    "total_mag_norm_fu = []\n",
    "total_mag_norm_vol = []\n",
    "total_mag = []\n",
    "nsites = []\n",
    "volume = []\n",
    "stru = []\n",
    "crystal_system = []\n",
    "number = []\n",
    "symbol = []\n",
    "point_group = []\n",
    "\n",
    "with MPRester(API_KEY) as mpr:\n",
    "    docTest1 = mpr.materials.summary.search(material_ids=[\"mp-90\", 'mp-1059289'], fields=[\"formula_pretty\", \"elements\", \"structure\", \"volume\", \"nelements\",\n",
    "                                            \"symmetry\", \"total_magnetization\", \"total_magnetization_normalized_vol\", \"total_magnetization_normalized_formula_units\", \"nsites\", \"material_id\"])\n",
    "for entry in tqdm(docTest1):\n",
    "    Formulas.append(entry.formula_pretty)\n",
    "    material_id.append(entry.material_id)\n",
    "    total_mag_norm_fu.append(\n",
    "        entry.total_magnetization_normalized_formula_units)\n",
    "    total_mag_norm_vol.append(entry.total_magnetization_normalized_vol)\n",
    "    total_mag.append(entry.total_magnetization)\n",
    "    crystal_system.append(entry.symmetry.crystal_system)\n",
    "    volume.append(entry.volume)\n",
    "    nelements.append(entry.nelements)\n",
    "    number.append(entry.symmetry.number)\n",
    "    symbol.append(entry.symmetry.symbol)\n",
    "    point_group.append(entry.symmetry.point_group)\n",
    "    nsites.append(entry.nsites)\n",
    "    stru.append(entry.structure)\n",
    "    JarvisFeatures.append(jarvis.featurize(entry.structure))\n",
    "\n",
    "df = pd.DataFrame(JarvisFeatures)\n",
    "df.columns = jarvis.feature_labels()\n",
    "df['material_id'] = material_id\n",
    "df['formula'] = Formulas\n",
    "df['total_magnetization_normalized_formula_units'] = total_mag_norm_fu\n",
    "df['total_magnetization_normalized_vol'] = total_mag_norm_vol\n",
    "df['total_magnetization'] = total_mag\n",
    "df['volume'] = volume\n",
    "df['nelements'] = nelements\n",
    "df['nsites'] = nsites\n",
    "df['crystal_system'] = crystal_system\n",
    "df['number'] = number\n",
    "df['symbol'] = symbol\n",
    "df['point_group'] = point_group\n",
    "df['structure'] = stru\n",
    "\n",
    "with MPRester(API_KEY) as mpr:\n",
    "    docTest2 = mpr.materials.summary.search(material_ids=['mp-13', 'mp-136'], fields=[\"formula_pretty\", \"elements\", \"structure\", \"volume\", \"nelements\",\n",
    "                                            \"symmetry\", \"total_magnetization\", \"total_magnetization_normalized_vol\", \"total_magnetization_normalized_formula_units\", \"nsites\", \"material_id\"])\n",
    "for entry in tqdm(docTest2):\n",
    "    Formulas.append(entry.formula_pretty)\n",
    "    material_id.append(entry.material_id)\n",
    "    total_mag_norm_fu.append(\n",
    "        entry.total_magnetization_normalized_formula_units)\n",
    "    total_mag_norm_vol.append(entry.total_magnetization_normalized_vol)\n",
    "    total_mag.append(entry.total_magnetization)\n",
    "    crystal_system.append(entry.symmetry.crystal_system)\n",
    "    volume.append(entry.volume)\n",
    "    nelements.append(entry.nelements)\n",
    "    number.append(entry.symmetry.number)\n",
    "    symbol.append(entry.symmetry.symbol)\n",
    "    point_group.append(entry.symmetry.point_group)\n",
    "    nsites.append(entry.nsites)\n",
    "    stru.append(entry.structure)\n",
    "    JarvisFeatures.append(jarvis.featurize(entry.structure))\n",
    "\n",
    "df = pd.DataFrame(JarvisFeatures)\n",
    "df.columns = jarvis.feature_labels()\n",
    "df['material_id'] = material_id\n",
    "df['formula'] = Formulas\n",
    "df['total_magnetization_normalized_formula_units'] = total_mag_norm_fu\n",
    "df['total_magnetization_normalized_vol'] = total_mag_norm_vol\n",
    "df['total_magnetization'] = total_mag\n",
    "df['volume'] = volume\n",
    "df['nelements'] = nelements\n",
    "df['nsites'] = nsites\n",
    "df['crystal_system'] = crystal_system\n",
    "df['number'] = number\n",
    "df['symbol'] = symbol\n",
    "df['point_group'] = point_group\n",
    "df['structure'] = stru\n",
    "\n",
    "\n",
    "display(df)\n",
    "df.to_csv(r'C:\\Users\\joeya\\Documents\\Fokwa Group\\ML_tutorial\\intermetallics\\JarvisTEST.csv', index=False)"
   ]
  },
  {
   "cell_type": "code",
   "execution_count": 14,
   "id": "6374c0fa",
   "metadata": {},
   "outputs": [
    {
     "data": {
      "application/vnd.jupyter.widget-view+json": {
       "model_id": "c5b8735cc9c84b0892145bc6ab3d90b8",
       "version_major": 2,
       "version_minor": 0
      },
      "text/plain": [
       "Retrieving SummaryDoc documents:   0%|          | 0/1434 [00:00<?, ?it/s]"
      ]
     },
     "metadata": {},
     "output_type": "display_data"
    },
    {
     "data": {
      "application/vnd.jupyter.widget-view+json": {
       "model_id": "f712a5105a1f4234bc32e13a9e671820",
       "version_major": 2,
       "version_minor": 0
      },
      "text/plain": [
       "Retrieving SummaryDoc documents:   0%|          | 0/2313 [00:00<?, ?it/s]"
      ]
     },
     "metadata": {},
     "output_type": "display_data"
    },
    {
     "data": {
      "application/vnd.jupyter.widget-view+json": {
       "model_id": "6c13207f9a5d452aa456d570541ffc4e",
       "version_major": 2,
       "version_minor": 0
      },
      "text/plain": [
       "Retrieving SummaryDoc documents:   0%|          | 0/2795 [00:00<?, ?it/s]"
      ]
     },
     "metadata": {},
     "output_type": "display_data"
    },
    {
     "data": {
      "application/vnd.jupyter.widget-view+json": {
       "model_id": "b1668f04ca214601a04dd4b5c243e7f1",
       "version_major": 2,
       "version_minor": 0
      },
      "text/plain": [
       "Retrieving SummaryDoc documents:   0%|          | 0/2893 [00:00<?, ?it/s]"
      ]
     },
     "metadata": {},
     "output_type": "display_data"
    },
    {
     "data": {
      "application/vnd.jupyter.widget-view+json": {
       "model_id": "980a4354c1224cdab86d29a624efa9be",
       "version_major": 2,
       "version_minor": 0
      },
      "text/plain": [
       "Retrieving SummaryDoc documents:   0%|          | 0/3592 [00:00<?, ?it/s]"
      ]
     },
     "metadata": {},
     "output_type": "display_data"
    },
    {
     "name": "stdout",
     "output_type": "stream",
     "text": [
      "13027\n"
     ]
    }
   ],
   "source": [
    "docCr = mpr.materials.summary.search(elements=[\"Cr\"], exclude_elements=[\"O\",'Eu','Tc','Ac',\"Pu\",\"Pm\",\"U\",\"Np\",\"Pa\",\"Pu\",\"Th\",'H','S','F','Cl','Br','I','At','Xe'] \n",
    "                                 ,fields=[\"structure\"]) \n",
    "docMn = mpr.materials.summary.search(elements=[\"Mn\"], exclude_elements=[\"O\",'Eu','Tc','Ac',\"Pu\",\"Pm\",\"U\",\"Np\",\"Pa\",\"Pu\",\"Th\",'H','S','F','Cl','Br','I','At','Xe'] \n",
    "                                 ,fields=[\"structure\"]) \n",
    "docFe = mpr.materials.summary.search(elements=[\"Fe\"], exclude_elements=[\"O\",'Eu','Tc','Ac',\"Pu\",\"Pm\",\"U\",\"Np\",\"Pa\",\"Pu\",\"Th\",'H','S','F','Cl','Br','I','At','Xe'] \n",
    "                                 ,fields=[\"structure\"]) \n",
    "docCo = mpr.materials.summary.search(elements=[\"Co\"], exclude_elements=[\"O\",'Eu','Tc','Ac',\"Pu\",\"Pm\",\"U\",\"Np\",\"Pa\",\"Pu\",\"Th\",'H','S','F','Cl','Br','I','At','Xe'] \n",
    "                                 ,fields=[\"structure\"]) \n",
    "docNi = mpr.materials.summary.search(elements=[\"Ni\"], exclude_elements=[\"O\",'Eu','Tc','Ac',\"Pu\",\"Pm\",\"U\",\"Np\",\"Pa\",\"Pu\",\"Th\",'H','S','F','Cl','Br','I','At','Xe'] \n",
    "                                 ,fields=[\"structure\"]) \n",
    "\n",
    "doctest  = docCr + docMn + docFe + docCo + docNi\n",
    "print(len(doctest))\n"
   ]
  },
  {
   "cell_type": "code",
   "execution_count": 22,
   "id": "9f06e30f",
   "metadata": {},
   "outputs": [
    {
     "name": "stderr",
     "output_type": "stream",
     "text": [
      "C:\\Users\\joeya\\anaconda3\\Lib\\site-packages\\mp_api\\client\\mprester.py:227: UserWarning: mpcontribs-client not installed. Install the package to query MPContribs data, or construct pourbaix diagrams: 'pip install mpcontribs-client'\n",
      "  warnings.warn(\n"
     ]
    },
    {
     "name": "stdout",
     "output_type": "stream",
     "text": [
      "['builder_meta', 'nsites', 'elements', 'nelements', 'composition', 'composition_reduced', 'formula_pretty', 'formula_anonymous', 'chemsys', 'volume', 'density', 'density_atomic', 'symmetry', 'property_name', 'material_id', 'deprecated', 'deprecation_reasons', 'last_updated', 'origins', 'warnings', 'structure', 'task_ids', 'uncorrected_energy_per_atom', 'energy_per_atom', 'formation_energy_per_atom', 'energy_above_hull', 'is_stable', 'equilibrium_reaction_energy_per_atom', 'decomposes_to', 'xas', 'grain_boundaries', 'band_gap', 'cbm', 'vbm', 'efermi', 'is_gap_direct', 'is_metal', 'es_source_calc_id', 'bandstructure', 'dos', 'dos_energy_up', 'dos_energy_down', 'is_magnetic', 'ordering', 'total_magnetization', 'total_magnetization_normalized_vol', 'total_magnetization_normalized_formula_units', 'num_magnetic_sites', 'num_unique_magnetic_sites', 'types_of_magnetic_species', 'k_voigt', 'k_reuss', 'k_vrh', 'g_voigt', 'g_reuss', 'g_vrh', 'universal_anisotropy', 'homogeneous_poisson', 'e_total', 'e_ionic', 'e_electronic', 'n', 'e_ij_max', 'weighted_surface_energy_EV_PER_ANG2', 'weighted_surface_energy', 'weighted_work_function', 'surface_anisotropy', 'shape_factor', 'has_reconstructed', 'possible_species', 'has_props', 'theoretical', 'database_IDs']\n"
     ]
    },
    {
     "data": {
      "application/vnd.jupyter.widget-view+json": {
       "model_id": "668470e07c504928b94fcf0775da9965",
       "version_major": 2,
       "version_minor": 0
      },
      "text/plain": [
       "Retrieving SummaryDoc documents:   0%|          | 0/1434 [00:00<?, ?it/s]"
      ]
     },
     "metadata": {},
     "output_type": "display_data"
    },
    {
     "data": {
      "application/vnd.jupyter.widget-view+json": {
       "model_id": "4cd0bb21559546ca8d0d4a43c4c2636a",
       "version_major": 2,
       "version_minor": 0
      },
      "text/plain": [
       "  0%|          | 0/1434 [00:00<?, ?it/s]"
      ]
     },
     "metadata": {},
     "output_type": "display_data"
    },
    {
     "data": {
      "application/vnd.jupyter.widget-view+json": {
       "model_id": "a4eb4100ef0846b7a6ade52ec28e1447",
       "version_major": 2,
       "version_minor": 0
      },
      "text/plain": [
       "Retrieving SummaryDoc documents:   0%|          | 0/2313 [00:00<?, ?it/s]"
      ]
     },
     "metadata": {},
     "output_type": "display_data"
    },
    {
     "data": {
      "application/vnd.jupyter.widget-view+json": {
       "model_id": "3c7d4f96f200456cadfeb6380491d3f4",
       "version_major": 2,
       "version_minor": 0
      },
      "text/plain": [
       "  0%|          | 0/2313 [00:00<?, ?it/s]"
      ]
     },
     "metadata": {},
     "output_type": "display_data"
    },
    {
     "data": {
      "application/vnd.jupyter.widget-view+json": {
       "model_id": "9cdddd451f7b4965ae81074de4931fdd",
       "version_major": 2,
       "version_minor": 0
      },
      "text/plain": [
       "Retrieving SummaryDoc documents:   0%|          | 0/2795 [00:00<?, ?it/s]"
      ]
     },
     "metadata": {},
     "output_type": "display_data"
    },
    {
     "data": {
      "application/vnd.jupyter.widget-view+json": {
       "model_id": "238f9a02f75348b38aaeea75928c626c",
       "version_major": 2,
       "version_minor": 0
      },
      "text/plain": [
       "  0%|          | 0/2795 [00:00<?, ?it/s]"
      ]
     },
     "metadata": {},
     "output_type": "display_data"
    },
    {
     "data": {
      "application/vnd.jupyter.widget-view+json": {
       "model_id": "6d8e0872454c435c9a5110e466c7ad40",
       "version_major": 2,
       "version_minor": 0
      },
      "text/plain": [
       "Retrieving SummaryDoc documents:   0%|          | 0/2893 [00:00<?, ?it/s]"
      ]
     },
     "metadata": {},
     "output_type": "display_data"
    },
    {
     "data": {
      "application/vnd.jupyter.widget-view+json": {
       "model_id": "013757bc318b479e9f88e2d059207ee6",
       "version_major": 2,
       "version_minor": 0
      },
      "text/plain": [
       "  0%|          | 0/2893 [00:00<?, ?it/s]"
      ]
     },
     "metadata": {},
     "output_type": "display_data"
    },
    {
     "data": {
      "application/vnd.jupyter.widget-view+json": {
       "model_id": "30e7fa26905547158e4cff8af141db44",
       "version_major": 2,
       "version_minor": 0
      },
      "text/plain": [
       "Retrieving SummaryDoc documents:   0%|          | 0/3592 [00:00<?, ?it/s]"
      ]
     },
     "metadata": {},
     "output_type": "display_data"
    },
    {
     "data": {
      "application/vnd.jupyter.widget-view+json": {
       "model_id": "8cfa1141e4f64815a5ed189af46b8174",
       "version_major": 2,
       "version_minor": 0
      },
      "text/plain": [
       "  0%|          | 0/3592 [00:00<?, ?it/s]"
      ]
     },
     "metadata": {},
     "output_type": "display_data"
    },
    {
     "name": "stdout",
     "output_type": "stream",
     "text": [
      "(13031, 1570)\n"
     ]
    }
   ],
   "source": [
    "#Test worked, so now doing it on the full dataset\n",
    "from mp_api.client import MPRester\n",
    "from tqdm.notebook import tqdm\n",
    "API_KEY = 'm79FCfWQZzWuPVJsCRMwXp87Y0ke7jGZ'\n",
    "with MPRester(API_KEY) as mpr:\n",
    "    print(mpr.materials.summary.available_fields)\n",
    "\n",
    "import pandas as pd\n",
    "from matminer.featurizers.structure.composite import JarvisCFID\n",
    "jarvis = JarvisCFID()    \n",
    "\n",
    "#This is a helper function to shorten lists during\n",
    "#the live presentation of this lesson for better readibility.\n",
    "#You can ignore it.\n",
    "def shortlist(long_list, n=5):\n",
    "    print(\"First {} of {} items:\".format(min(n, 5), len(long_list)))\n",
    "    for item in long_list[0:n]:\n",
    "        print(item)\n",
    "        \n",
    "docCr = mpr.materials.summary.search(elements=[\"Cr\"], exclude_elements=[\"O\",'Eu','Tc','Ac',\"Pu\",\"Pm\",\"U\",\"Np\",\"Pa\",\"Pu\",\"Th\",'H','S','F','Cl','Br','I','At','Xe'],\n",
    "                                 fields=[\"formula_pretty\",\"elements\",\"structure\", \"volume\",'elements'\n",
    "                                          , \"nelements\",\"symmetry\"\n",
    "                                        ,\"total_magnetization\",\"total_magnetization_normalized_vol\"\n",
    "                                        ,\"total_magnetization_normalized_formula_units\"\n",
    "                                   ,\"nsites\",\"material_id\"]) \n",
    "for entry in tqdm(docCr):\n",
    "    Formulas.append(entry.formula_pretty)\n",
    "    material_id.append(entry.material_id)\n",
    "    total_mag_norm_fu.append(entry.total_magnetization_normalized_formula_units)\n",
    "    total_mag_norm_vol.append(entry.total_magnetization_normalized_vol)\n",
    "    total_mag.append(entry.total_magnetization)\n",
    "    crystal_system.append(entry.symmetry.crystal_system)\n",
    "    volume.append(entry.volume)\n",
    "    nelements.append(entry.nelements)\n",
    "    number.append(entry.symmetry.number)\n",
    "    symbol.append(entry.symmetry.symbol)\n",
    "    point_group.append(entry.symmetry.point_group)\n",
    "    nsites.append(entry.nsites)\n",
    "    stru.append(entry.structure)\n",
    "    JarvisFeatures.append(jarvis.featurize(entry.structure))\n",
    "    \n",
    "df=pd.DataFrame(JarvisFeatures)\n",
    "df.columns = jarvis.feature_labels()\n",
    "df['material_id'] = material_id\n",
    "df['formula'] = Formulas\n",
    "df['total_magnetization_normalized_formula_units'] = total_mag_norm_fu\n",
    "df['total_magnetization_normalized_vol'] = total_mag_norm_vol\n",
    "df['total_magnetization'] = total_mag\n",
    "df['volume'] = volume\n",
    "df['nelements'] = nelements\n",
    "df['nsites'] = nsites\n",
    "df['crystal_system'] = crystal_system\n",
    "df['number'] = number\n",
    "df['symbol'] = symbol\n",
    "df['point_group'] = point_group\n",
    "df['structure'] = stru\n",
    "\n",
    "df.to_csv(r'C:\\Users\\joeya\\Documents\\Fokwa Group\\ML_tutorial\\intermetallics\\intermetallics_dataset_JarvisCr.csv', index=False)\n",
    "\n",
    "docMn = mpr.materials.summary.search(elements=[\"Mn\"], exclude_elements=[\"O\",'Eu','Tc','Ac',\"Pu\",\"Pm\",\"U\",\"Np\",\"Pa\",\"Pu\",\"Th\",'H','S','F','Cl','Br','I','At','Xe'] \n",
    "                                 ,fields=[\"formula_pretty\",\"elements\",\"structure\", \"volume\", 'elements'\n",
    "                                          , \"nelements\",\"symmetry\"\n",
    "                                        ,\"total_magnetization\",\"total_magnetization_normalized_vol\"\n",
    "                                        ,\"total_magnetization_normalized_formula_units\"\n",
    "                                   ,\"nsites\",\"material_id\"]) \n",
    "for entry in tqdm(docMn):\n",
    "    Formulas.append(entry.formula_pretty)\n",
    "    material_id.append(entry.material_id)\n",
    "    total_mag_norm_fu.append(entry.total_magnetization_normalized_formula_units)\n",
    "    total_mag_norm_vol.append(entry.total_magnetization_normalized_vol)\n",
    "    total_mag.append(entry.total_magnetization)\n",
    "    crystal_system.append(entry.symmetry.crystal_system)\n",
    "    volume.append(entry.volume)\n",
    "    nelements.append(entry.nelements)\n",
    "    number.append(entry.symmetry.number)\n",
    "    symbol.append(entry.symmetry.symbol)\n",
    "    point_group.append(entry.symmetry.point_group)\n",
    "    nsites.append(entry.nsites)\n",
    "    stru.append(entry.structure)\n",
    "    JarvisFeatures.append(jarvis.featurize(entry.structure))\n",
    "    \n",
    "df=pd.DataFrame(JarvisFeatures)\n",
    "df.columns = jarvis.feature_labels()\n",
    "df['material_id'] = material_id\n",
    "df['formula'] = Formulas\n",
    "df['total_magnetization_normalized_formula_units'] = total_mag_norm_fu\n",
    "df['total_magnetization_normalized_vol'] = total_mag_norm_vol\n",
    "df['total_magnetization'] = total_mag\n",
    "df['volume'] = volume\n",
    "df['nelements'] = nelements\n",
    "df['nsites'] = nsites\n",
    "df['crystal_system'] = crystal_system\n",
    "df['number'] = number\n",
    "df['symbol'] = symbol\n",
    "df['point_group'] = point_group\n",
    "df['structure'] = stru\n",
    "\n",
    "df.to_csv(r'C:\\Users\\joeya\\Documents\\Fokwa Group\\ML_tutorial\\intermetallics\\intermetallics_dataset_JarvisCrMn.csv', index=False)\n",
    "\n",
    "docFe = mpr.materials.summary.search(elements=[\"Fe\"], exclude_elements=[\"O\",'Eu','Tc','Ac',\"Pu\",\"Pm\",\"U\",\"Np\",\"Pa\",\"Pu\",\"Th\",'H','S','F','Cl','Br','I','At','Xe'] \n",
    "                                 ,fields=[\"formula_pretty\",\"elements\",\"structure\", \"volume\", 'elements'\n",
    "                                          , \"nelements\",\"symmetry\"\n",
    "                                        ,\"total_magnetization\",\"total_magnetization_normalized_vol\"\n",
    "                                        ,\"total_magnetization_normalized_formula_units\"\n",
    "                                   ,\"nsites\",\"material_id\"]) \n",
    "for entry in tqdm(docFe):\n",
    "    Formulas.append(entry.formula_pretty)\n",
    "    material_id.append(entry.material_id)\n",
    "    total_mag_norm_fu.append(entry.total_magnetization_normalized_formula_units)\n",
    "    total_mag_norm_vol.append(entry.total_magnetization_normalized_vol)\n",
    "    total_mag.append(entry.total_magnetization)\n",
    "    crystal_system.append(entry.symmetry.crystal_system)\n",
    "    volume.append(entry.volume)\n",
    "    nelements.append(entry.nelements)\n",
    "    number.append(entry.symmetry.number)\n",
    "    symbol.append(entry.symmetry.symbol)\n",
    "    point_group.append(entry.symmetry.point_group)\n",
    "    nsites.append(entry.nsites)\n",
    "    stru.append(entry.structure)\n",
    "    JarvisFeatures.append(jarvis.featurize(entry.structure))\n",
    "    \n",
    "df=pd.DataFrame(JarvisFeatures)\n",
    "df.columns = jarvis.feature_labels()\n",
    "df['material_id'] = material_id\n",
    "df['formula'] = Formulas\n",
    "df['total_magnetization_normalized_formula_units'] = total_mag_norm_fu\n",
    "df['total_magnetization_normalized_vol'] = total_mag_norm_vol\n",
    "df['total_magnetization'] = total_mag\n",
    "df['volume'] = volume\n",
    "df['nelements'] = nelements\n",
    "df['nsites'] = nsites\n",
    "df['crystal_system'] = crystal_system\n",
    "df['number'] = number\n",
    "df['symbol'] = symbol\n",
    "df['point_group'] = point_group\n",
    "df['structure'] = stru\n",
    "\n",
    "df.to_csv(r'C:\\Users\\joeya\\Documents\\Fokwa Group\\ML_tutorial\\intermetallics\\intermetallics_dataset_JarvisCrMnFe.csv', index=False)\n",
    "\n",
    "docCo = mpr.materials.summary.search(elements=[\"Co\"], exclude_elements=[\"O\",'Eu','Tc','Ac',\"Pu\",\"Pm\",\"U\",\"Np\",\"Pa\",\"Pu\",\"Th\",'H','S','F','Cl','Br','I','At','Xe'] \n",
    "                                 ,fields=[\"formula_pretty\",\"elements\",\"structure\", \"volume\", 'elements'\n",
    "                                          , \"nelements\",\"symmetry\"\n",
    "                                        ,\"total_magnetization\",\"total_magnetization_normalized_vol\"\n",
    "                                        ,\"total_magnetization_normalized_formula_units\"\n",
    "                                   ,\"nsites\",\"material_id\"]) \n",
    "for entry in tqdm(docCo):\n",
    "    Formulas.append(entry.formula_pretty)\n",
    "    material_id.append(entry.material_id)\n",
    "    total_mag_norm_fu.append(entry.total_magnetization_normalized_formula_units)\n",
    "    total_mag_norm_vol.append(entry.total_magnetization_normalized_vol)\n",
    "    total_mag.append(entry.total_magnetization)\n",
    "    crystal_system.append(entry.symmetry.crystal_system)\n",
    "    volume.append(entry.volume)\n",
    "    nelements.append(entry.nelements)\n",
    "    number.append(entry.symmetry.number)\n",
    "    symbol.append(entry.symmetry.symbol)\n",
    "    point_group.append(entry.symmetry.point_group)\n",
    "    nsites.append(entry.nsites)\n",
    "    stru.append(entry.structure)\n",
    "    JarvisFeatures.append(jarvis.featurize(entry.structure))\n",
    "    \n",
    "df=pd.DataFrame(JarvisFeatures)\n",
    "df.columns = jarvis.feature_labels()\n",
    "df['material_id'] = material_id\n",
    "df['formula'] = Formulas\n",
    "df['total_magnetization_normalized_formula_units'] = total_mag_norm_fu\n",
    "df['total_magnetization_normalized_vol'] = total_mag_norm_vol\n",
    "df['total_magnetization'] = total_mag\n",
    "df['volume'] = volume\n",
    "df['nelements'] = nelements\n",
    "df['nsites'] = nsites\n",
    "df['crystal_system'] = crystal_system\n",
    "df['number'] = number\n",
    "df['symbol'] = symbol\n",
    "df['point_group'] = point_group\n",
    "df['structure'] = stru\n",
    "\n",
    "df.to_csv(r'C:\\Users\\joeya\\Documents\\Fokwa Group\\ML_tutorial\\intermetallics\\intermetallics_dataset_JarvisCrMnFeCo.csv', index=False)\n",
    "\n",
    "docNi = mpr.materials.summary.search(elements=[\"Ni\"], exclude_elements=[\"O\",'Eu','Tc','Ac',\"Pu\",\"Pm\",\"U\",\"Np\",\"Pa\",\"Pu\",\"Th\",'H','S','F','Cl','Br','I','At','Xe'] \n",
    "                                 ,fields=[\"formula_pretty\",\"elements\",\"structure\", \"volume\", 'elements'\n",
    "                                          , \"nelements\",\"symmetry\"\n",
    "                                        ,\"total_magnetization\",\"total_magnetization_normalized_vol\"\n",
    "                                        ,\"total_magnetization_normalized_formula_units\"\n",
    "                                   ,\"nsites\",\"material_id\"]) \n",
    "for entry in tqdm(docNi):\n",
    "    Formulas.append(entry.formula_pretty)\n",
    "    material_id.append(entry.material_id)\n",
    "    total_mag_norm_fu.append(entry.total_magnetization_normalized_formula_units)\n",
    "    total_mag_norm_vol.append(entry.total_magnetization_normalized_vol)\n",
    "    total_mag.append(entry.total_magnetization)\n",
    "    crystal_system.append(entry.symmetry.crystal_system)\n",
    "    volume.append(entry.volume)\n",
    "    nelements.append(entry.nelements)\n",
    "    number.append(entry.symmetry.number)\n",
    "    symbol.append(entry.symmetry.symbol)\n",
    "    point_group.append(entry.symmetry.point_group)\n",
    "    nsites.append(entry.nsites)\n",
    "    stru.append(entry.structure)\n",
    "    JarvisFeatures.append(jarvis.featurize(entry.structure))\n",
    "    \n",
    "df=pd.DataFrame(JarvisFeatures)\n",
    "df.columns = jarvis.feature_labels()\n",
    "df['material_id'] = material_id\n",
    "df['formula'] = Formulas\n",
    "df['total_magnetization_normalized_formula_units'] = total_mag_norm_fu\n",
    "df['total_magnetization_normalized_vol'] = total_mag_norm_vol\n",
    "df['total_magnetization'] = total_mag\n",
    "df['volume'] = volume\n",
    "df['nelements'] = nelements\n",
    "df['nsites'] = nsites\n",
    "df['crystal_system'] = crystal_system\n",
    "df['number'] = number\n",
    "df['symbol'] = symbol\n",
    "df['point_group'] = point_group\n",
    "df['structure'] = stru\n",
    "\n",
    "print(df.shape)\n",
    "df.to_csv(r'C:\\Users\\joeya\\Documents\\Fokwa Group\\ML_tutorial\\intermetallics\\intermetallics_dataset_Jarvis_Full2.csv', index=False)"
   ]
  },
  {
   "cell_type": "code",
   "execution_count": null,
   "id": "bd3cf826",
   "metadata": {},
   "outputs": [],
   "source": [
    "with MPRester(API_KEY) as mpr:\n",
    "    docCr = mpr.materials.summary.search(elements=[\"Cr\"], exclude_elements=[\"O\",'Eu','Tc','Ac',\"Pu\",\"Pm\",\"U\",\"Np\",\"Pa\",\"Pu\",\"Th\",'H','S','F','Cl','Br','I','At','Xe'] \n",
    "                                 ,fields=[\"structure\",'formula_pretty']) \n",
    "for entry in docCr:\n",
    "    Formulas.append(entry.formula_pretty)\n",
    "    JarvisFeatures.append(jarvis.featurize(entry.structure))\n",
    "    "
   ]
  },
  {
   "cell_type": "code",
   "execution_count": null,
   "id": "000825ac",
   "metadata": {},
   "outputs": [],
   "source": []
  }
 ],
 "metadata": {
  "kernelspec": {
   "display_name": "Python 3 (ipykernel)",
   "language": "python",
   "name": "python3"
  },
  "language_info": {
   "codemirror_mode": {
    "name": "ipython",
    "version": 3
   },
   "file_extension": ".py",
   "mimetype": "text/x-python",
   "name": "python",
   "nbconvert_exporter": "python",
   "pygments_lexer": "ipython3",
   "version": "3.11.4"
  }
 },
 "nbformat": 4,
 "nbformat_minor": 5
}
